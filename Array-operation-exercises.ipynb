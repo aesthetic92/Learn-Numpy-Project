{
 "cells": [
  {
   "cell_type": "markdown",
   "metadata": {},
   "source": [
    "# 数组基本运算"
   ]
  },
  {
   "cell_type": "code",
   "execution_count": 1,
   "metadata": {
    "collapsed": true
   },
   "outputs": [],
   "source": [
    "from numpy import *"
   ]
  },
  {
   "cell_type": "code",
   "execution_count": 6,
   "metadata": {
    "collapsed": false
   },
   "outputs": [
    {
     "name": "stdout",
     "output_type": "stream",
     "text": [
      "[1 2 3 4]\n",
      "[1 2 3 4]\n",
      "[1 2 3 4]\n"
     ]
    }
   ],
   "source": [
    "import numpy\n",
    "import numpy as np\n",
    "\n",
    "print array([1, 2, 3, 4])\n",
    "print numpy.array([1, 2, 3, 4])   \n",
    "print np.array([1, 2, 3, 4])        # 这三句话是一样的意思"
   ]
  },
  {
   "cell_type": "code",
   "execution_count": 8,
   "metadata": {
    "collapsed": false
   },
   "outputs": [
    {
     "name": "stdout",
     "output_type": "stream",
     "text": [
      "[1 3 5 7]\n",
      "[1 1 1 1]\n",
      "[ 0  2  6 12]\n",
      "[ 1  4  9 16]\n",
      "[ True False False False]\n"
     ]
    }
   ],
   "source": [
    "a = array([1, 2, 3, 4])\n",
    "b = arange(4)\n",
    "\n",
    "print a + b\n",
    "print a - b\n",
    "print a * b\n",
    "print a ** 2\n",
    "print a < 2"
   ]
  },
  {
   "cell_type": "code",
   "execution_count": 10,
   "metadata": {
    "collapsed": false
   },
   "outputs": [
    {
     "name": "stdout",
     "output_type": "stream",
     "text": [
      "c*d: [[2 0]\n",
      " [0 4]]\n",
      "dot(c, d): [[5 4]\n",
      " [3 4]]\n"
     ]
    }
   ],
   "source": [
    "c = array([[1, 1], [0, 1]])\n",
    "d = array([[2, 0], [3, 4]])\n",
    "\n",
    "print 'c*d:', c*d\n",
    "print 'dot(c, d):', dot(c, d)"
   ]
  },
  {
   "cell_type": "code",
   "execution_count": 12,
   "metadata": {
    "collapsed": false
   },
   "outputs": [
    {
     "name": "stdout",
     "output_type": "stream",
     "text": [
      "[[3 3 3]\n",
      " [3 3 3]]\n"
     ]
    }
   ],
   "source": [
    "e = ones((2, 3), dtype = int)\n",
    "e *= 3\n",
    "\n",
    "print e\n",
    "\n"
   ]
  },
  {
   "cell_type": "code",
   "execution_count": 13,
   "metadata": {
    "collapsed": false
   },
   "outputs": [
    {
     "name": "stdout",
     "output_type": "stream",
     "text": [
      "[[ 0.99922907  0.6633736   0.73823856]\n",
      " [ 0.27988815  0.67706023  0.79480409]]\n",
      "[[ 3.99922907  3.6633736   3.73823856]\n",
      " [ 3.27988815  3.67706023  3.79480409]]\n"
     ]
    }
   ],
   "source": [
    "f = random.random((2, 3))\n",
    "print f\n",
    "\n",
    "f += e\n",
    "print f"
   ]
  },
  {
   "cell_type": "code",
   "execution_count": 19,
   "metadata": {
    "collapsed": false
   },
   "outputs": [
    {
     "name": "stdout",
     "output_type": "stream",
     "text": [
      "g: [  1.   2.   3.   4.   5.   6.   7.   8.   9.  10.]\n",
      "float64\n",
      "[ 1.   1.9  2.8  3.7  4.6  5.5  6.4  7.3  8.2  9.1]\n"
     ]
    }
   ],
   "source": [
    "g = linspace(1, 10, 10) # 创建一个一维数组，并且是等差数列构成的一维数组,第三个参数是元素个数，与arange()函数第三个参数表示的步长不同\n",
    "print 'g:', g\n",
    "print g.dtype\n",
    "\n",
    "print linspace(1, 10, 10, endpoint = False)  # endpoint表示是否包含终止值，默认是True"
   ]
  },
  {
   "cell_type": "code",
   "execution_count": 22,
   "metadata": {
    "collapsed": false
   },
   "outputs": [
    {
     "name": "stdout",
     "output_type": "stream",
     "text": [
      "22.1525937056\n",
      "3.27988814805\n",
      "3.99922907451\n"
     ]
    }
   ],
   "source": [
    "print f.sum()\n",
    "print f.min()\n",
    "print f.max()"
   ]
  },
  {
   "cell_type": "markdown",
   "metadata": {},
   "source": [
    "## axis 应用到数组指定的轴上"
   ]
  },
  {
   "cell_type": "code",
   "execution_count": 23,
   "metadata": {
    "collapsed": false
   },
   "outputs": [
    {
     "name": "stdout",
     "output_type": "stream",
     "text": [
      "h: [[ 0  1  2  3]\n",
      " [ 4  5  6  7]\n",
      " [ 8  9 10 11]]\n"
     ]
    },
    {
     "data": {
      "text/plain": [
       "array([12, 15, 18, 21])"
      ]
     },
     "execution_count": 23,
     "metadata": {},
     "output_type": "execute_result"
    }
   ],
   "source": [
    "h = arange(12).reshape(3, 4)      #axis总共有2个 故取值为axis = 0 或者 1\n",
    "print 'h:', h\n",
    "\n",
    "h.sum(axis = 0)    # 每列的和"
   ]
  },
  {
   "cell_type": "code",
   "execution_count": 25,
   "metadata": {
    "collapsed": false
   },
   "outputs": [
    {
     "name": "stdout",
     "output_type": "stream",
     "text": [
      "0\n",
      "[0 4 8]\n"
     ]
    }
   ],
   "source": [
    "print h.min()\n",
    "print h.min(axis = 1)   #每行的最小值"
   ]
  },
  {
   "cell_type": "code",
   "execution_count": 26,
   "metadata": {
    "collapsed": false
   },
   "outputs": [
    {
     "name": "stdout",
     "output_type": "stream",
     "text": [
      "[ 0  1  3  6 10 15 21 28 36 45 55 66]\n",
      "[[ 0  1  3  6]\n",
      " [ 4  9 15 22]\n",
      " [ 8 17 27 38]]\n"
     ]
    }
   ],
   "source": [
    "print h.cumsum()\n",
    "print h.cumsum(axis = 1)"
   ]
  },
  {
   "cell_type": "markdown",
   "metadata": {},
   "source": [
    "# 形状操作"
   ]
  },
  {
   "cell_type": "code",
   "execution_count": 27,
   "metadata": {
    "collapsed": false
   },
   "outputs": [
    {
     "name": "stdout",
     "output_type": "stream",
     "text": [
      "i: [[ 5.  2.  6.  2.]\n",
      " [ 4.  4.  4.  0.]\n",
      " [ 6.  4.  7.  2.]]\n"
     ]
    }
   ],
   "source": [
    "i = floor(10 * random.random((3, 4)))\n",
    "print 'i:', i"
   ]
  },
  {
   "cell_type": "code",
   "execution_count": 28,
   "metadata": {
    "collapsed": false
   },
   "outputs": [
    {
     "name": "stdout",
     "output_type": "stream",
     "text": [
      "(3, 4)\n"
     ]
    }
   ],
   "source": [
    "print i.shape"
   ]
  },
  {
   "cell_type": "code",
   "execution_count": 30,
   "metadata": {
    "collapsed": false
   },
   "outputs": [
    {
     "data": {
      "text/plain": [
       "array([ 5.,  2.,  6.,  2.,  4.,  4.,  4.,  0.,  6.,  4.,  7.,  2.])"
      ]
     },
     "execution_count": 30,
     "metadata": {},
     "output_type": "execute_result"
    }
   ],
   "source": [
    "i.ravel()  # flattern the array"
   ]
  },
  {
   "cell_type": "code",
   "execution_count": 31,
   "metadata": {
    "collapsed": false
   },
   "outputs": [
    {
     "data": {
      "text/plain": [
       "array([[ 5.,  6.,  4.,  4.,  6.,  7.],\n",
       "       [ 2.,  2.,  4.,  0.,  4.,  2.]])"
      ]
     },
     "execution_count": 31,
     "metadata": {},
     "output_type": "execute_result"
    }
   ],
   "source": [
    "i.shape = (6, 2)\n",
    "i.transpose()"
   ]
  },
  {
   "cell_type": "code",
   "execution_count": 33,
   "metadata": {
    "collapsed": false
   },
   "outputs": [
    {
     "name": "stdout",
     "output_type": "stream",
     "text": [
      "(6, 2)\n"
     ]
    }
   ],
   "source": [
    "print i.shape"
   ]
  }
 ],
 "metadata": {
  "kernelspec": {
   "display_name": "Python 2",
   "language": "python",
   "name": "python2"
  },
  "language_info": {
   "codemirror_mode": {
    "name": "ipython",
    "version": 2
   },
   "file_extension": ".py",
   "mimetype": "text/x-python",
   "name": "python",
   "nbconvert_exporter": "python",
   "pygments_lexer": "ipython2",
   "version": "2.7.11"
  }
 },
 "nbformat": 4,
 "nbformat_minor": 0
}
